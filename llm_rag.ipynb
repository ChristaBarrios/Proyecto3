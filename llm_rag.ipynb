{
 "cells": [
  {
   "cell_type": "code",
   "execution_count": 16,
   "metadata": {
    "ExecuteTime": {
     "end_time": "2024-04-30T07:32:41.472703300Z",
     "start_time": "2024-04-30T07:32:40.843882400Z"
    }
   },
   "outputs": [],
   "source": [
    "import os\n",
    "import re\n",
    "import PyPDF2 \n",
    "from dotenv import load_dotenv\n",
    "from langchain.vectorstores import Chroma\n",
    "from langchain_core.documents import Document\n",
    "from langchain.text_splitter import RecursiveCharacterTextSplitter\n",
    "from langchain_openai import OpenAIEmbeddings, ChatOpenAI\n",
    "from langchain.chains import ConversationalRetrievalChain\n",
    "from langchain.memory import ConversationBufferMemory"
   ]
  },
  {
   "cell_type": "code",
   "outputs": [],
   "source": [
    "load_dotenv()\n",
    "api_key = os.getenv(\"OPENAI_API_KEY\")\n",
    "\n",
    "os.environ[\"OPENAI_API_KEY\"] = api_key"
   ],
   "metadata": {
    "collapsed": false,
    "ExecuteTime": {
     "end_time": "2024-04-30T07:26:49.457930900Z",
     "start_time": "2024-04-30T07:26:49.434479Z"
    }
   },
   "execution_count": 3
  },
  {
   "cell_type": "code",
   "outputs": [],
   "source": [
    "def read_pdf(file_path):\n",
    "    text = ''\n",
    "    with open(file_path, 'rb') as f:\n",
    "        reader = PyPDF2.PdfReader(f)\n",
    "        num_pages = len(reader.pages)\n",
    "        for n in range(num_pages):\n",
    "            page = reader.pages[n]\n",
    "            text += ' ' + page.extract_text()\n",
    "    return text"
   ],
   "metadata": {
    "collapsed": false,
    "ExecuteTime": {
     "end_time": "2024-04-30T07:38:44.124149700Z",
     "start_time": "2024-04-30T07:38:44.110621600Z"
    }
   },
   "execution_count": 35
  },
  {
   "cell_type": "code",
   "outputs": [
    {
     "name": "stdout",
     "output_type": "stream",
     "text": [
      "71791\n"
     ]
    }
   ],
   "source": [
    "text = read_pdf('shrek-script-pdf.pdf')\n",
    "print(len(text))"
   ],
   "metadata": {
    "collapsed": false,
    "ExecuteTime": {
     "end_time": "2024-04-30T07:38:52.433476100Z",
     "start_time": "2024-04-30T07:38:45.625784800Z"
    }
   },
   "execution_count": 36
  },
  {
   "cell_type": "code",
   "outputs": [
    {
     "name": "stdout",
     "output_type": "stream",
     "text": [
      "71791\n"
     ]
    }
   ],
   "source": [
    "# Replace newline characters with whitespaces\n",
    "text = re.sub(r'\\n', ' ', text)\n",
    "print(len(text))"
   ],
   "metadata": {
    "collapsed": false,
    "ExecuteTime": {
     "end_time": "2024-04-30T07:39:57.515555900Z",
     "start_time": "2024-04-30T07:39:57.094123300Z"
    }
   },
   "execution_count": 38
  },
  {
   "cell_type": "code",
   "outputs": [
    {
     "name": "stdout",
     "output_type": "stream",
     "text": [
      "76\n"
     ]
    }
   ],
   "source": [
    "text_splitter = RecursiveCharacterTextSplitter(chunk_size = 1000,\n",
    "                                               chunk_overlap = 50,\n",
    "                                               length_function = len)\n",
    "\n",
    "# Replace this with our data\n",
    "splits = text_splitter.split_text(text)\n",
    "print(len(splits))"
   ],
   "metadata": {
    "collapsed": false,
    "ExecuteTime": {
     "end_time": "2024-04-30T07:40:29.411005100Z",
     "start_time": "2024-04-30T07:40:29.339313900Z"
    }
   },
   "execution_count": 39
  },
  {
   "cell_type": "code",
   "outputs": [],
   "source": [
    "rags = [Document(page_content=txt) for txt in splits[:90]]"
   ],
   "metadata": {
    "collapsed": false,
    "ExecuteTime": {
     "end_time": "2024-04-30T07:40:33.473765300Z",
     "start_time": "2024-04-30T07:40:33.461442900Z"
    }
   },
   "execution_count": 40
  },
  {
   "cell_type": "code",
   "execution_count": 41,
   "metadata": {
    "ExecuteTime": {
     "end_time": "2024-04-30T07:40:39.259056900Z",
     "start_time": "2024-04-30T07:40:35.691872600Z"
    }
   },
   "outputs": [],
   "source": [
    "vectorstore = Chroma.from_documents(\n",
    "    documents = rags, \n",
    "    embedding = OpenAIEmbeddings(),\n",
    "    persist_directory = \"data/chroma_db\"\n",
    ")\n",
    "\n",
    "retriever = vectorstore.as_retriever()"
   ]
  },
  {
   "cell_type": "code",
   "execution_count": 42,
   "metadata": {
    "ExecuteTime": {
     "end_time": "2024-04-30T07:40:42.620212400Z",
     "start_time": "2024-04-30T07:40:41.264035600Z"
    }
   },
   "outputs": [],
   "source": [
    "llm = ChatOpenAI(model_name = \"gpt-3.5-turbo\", temperature=0.0)\n",
    "\n",
    "memory = ConversationBufferMemory(\n",
    "    llm = llm,\n",
    "    memory_key = \"chat_history\",\n",
    "    return_messages=True\n",
    ")\n",
    "\n",
    "chat = ConversationalRetrievalChain.from_llm(\n",
    "    llm,\n",
    "    retriever = retriever,\n",
    "    memory = memory\n",
    ")"
   ]
  },
  {
   "cell_type": "code",
   "execution_count": 43,
   "metadata": {
    "ExecuteTime": {
     "end_time": "2024-04-30T07:40:57.328066300Z",
     "start_time": "2024-04-30T07:40:54.773025600Z"
    }
   },
   "outputs": [],
   "source": [
    "res = chat(\"What is donkeys personality?\")"
   ]
  },
  {
   "cell_type": "code",
   "execution_count": 44,
   "metadata": {
    "ExecuteTime": {
     "end_time": "2024-04-30T07:40:57.343606Z",
     "start_time": "2024-04-30T07:40:57.337828600Z"
    }
   },
   "outputs": [
    {
     "name": "stdout",
     "output_type": "stream",
     "text": [
      "Donkey's personality in the context provided is portrayed as talkative, curious, humorous, loyal, and sometimes a bit naive. He is shown to be inquisitive, not afraid to ask questions, and often provides comic relief in the interactions with Shrek. Donkey also shows a caring side, as he expresses concern for Shrek and tries to understand his motivations.\n"
     ]
    }
   ],
   "source": [
    "print(res[\"answer\"])"
   ]
  },
  {
   "cell_type": "code",
   "execution_count": null,
   "metadata": {},
   "outputs": [],
   "source": []
  }
 ],
 "metadata": {
  "kernelspec": {
   "display_name": "iteso",
   "language": "python",
   "name": "python3"
  },
  "language_info": {
   "codemirror_mode": {
    "name": "ipython",
    "version": 3
   },
   "file_extension": ".py",
   "mimetype": "text/x-python",
   "name": "python",
   "nbconvert_exporter": "python",
   "pygments_lexer": "ipython3",
   "version": "3.10.13"
  }
 },
 "nbformat": 4,
 "nbformat_minor": 2
}
